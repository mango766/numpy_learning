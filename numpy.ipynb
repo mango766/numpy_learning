{
  "nbformat": 4,
  "nbformat_minor": 0,
  "metadata": {
    "colab": {
      "provenance": [],
      "toc_visible": true,
      "collapsed_sections": [],
      "authorship_tag": "ABX9TyN1zo4KRR5kVL+/njkVYk++",
      "include_colab_link": true
    },
    "kernelspec": {
      "name": "python3",
      "display_name": "Python 3"
    },
    "language_info": {
      "name": "python"
    }
  },
  "cells": [
    {
      "cell_type": "markdown",
      "metadata": {
        "id": "view-in-github",
        "colab_type": "text"
      },
      "source": [
        "<a href=\"https://colab.research.google.com/github/mango766/numpy_learning/blob/main/numpy.ipynb\" target=\"_parent\"><img src=\"https://colab.research.google.com/assets/colab-badge.svg\" alt=\"Open In Colab\"/></a>"
      ]
    },
    {
      "cell_type": "code",
      "source": [
        "import numpy as np"
      ],
      "metadata": {
        "id": "VQCyedR_H0Rm"
      },
      "execution_count": null,
      "outputs": []
    },
    {
      "cell_type": "markdown",
      "source": [
        "## 数组变换"
      ],
      "metadata": {
        "id": "pNnsFQhdKsRV"
      }
    },
    {
      "cell_type": "markdown",
      "source": [
        "数组扁平化"
      ],
      "metadata": {
        "id": "QafzcpntL6Y3"
      }
    },
    {
      "cell_type": "code",
      "source": [
        "arr1 = np.arange(12).reshape(3,4)\n",
        "print(\"arr1:\\n\",arr1)\n",
        "arr2 = arr1.ravel()\n",
        "print(\"arr2:\\n\",arr2)\n",
        "arr3 = arr1.flatten()\n",
        "print(\"arr3:\\n\",arr3)"
      ],
      "metadata": {
        "colab": {
          "base_uri": "https://localhost:8080/"
        },
        "id": "ug_lrvuPL8Zw",
        "outputId": "abb847a0-6bc5-43ba-873a-0360fbf448f1"
      },
      "execution_count": 13,
      "outputs": [
        {
          "output_type": "stream",
          "name": "stdout",
          "text": [
            "arr1:\n",
            " [[ 0  1  2  3]\n",
            " [ 4  5  6  7]\n",
            " [ 8  9 10 11]]\n",
            "arr2:\n",
            " [ 0  1  2  3  4  5  6  7  8  9 10 11]\n",
            "arr3:\n",
            " [ 0  1  2  3  4  5  6  7  8  9 10 11]\n"
          ]
        }
      ]
    },
    {
      "cell_type": "markdown",
      "source": [
        "### 数组合并"
      ],
      "metadata": {
        "id": "PEAJXZSLJDWi"
      }
    },
    {
      "cell_type": "code",
      "source": [
        "arr1 = np.arange(6).reshape(3,2)\n",
        "print(\"arr1:\",arr1)\n",
        "\n",
        "arr2 = arr1*2#数字大小乘2\n",
        "print(\"arr2:\",arr2)\n"
      ],
      "metadata": {
        "colab": {
          "base_uri": "https://localhost:8080/"
        },
        "id": "a2uVrCAJJGy6",
        "outputId": "d89a4387-de27-44ea-8537-5f5f2a374617"
      },
      "execution_count": null,
      "outputs": [
        {
          "output_type": "stream",
          "name": "stdout",
          "text": [
            "arr1: [[0 1]\n",
            " [2 3]\n",
            " [4 5]]\n",
            "arr2: [[ 0  2]\n",
            " [ 4  6]\n",
            " [ 8 10]]\n"
          ]
        }
      ]
    },
    {
      "cell_type": "code",
      "source": [
        "arr3 = np.hstack((arr1,arr2))\n",
        "print(\"横向合并后数组：\\n\",arr3)\n",
        "print(\"\\n\")\n",
        "arr4 = np.vstack((arr1,arr2))\n",
        "print(\"纵向合并后数组：\\n\",arr4)"
      ],
      "metadata": {
        "colab": {
          "base_uri": "https://localhost:8080/"
        },
        "id": "qM-hFryNJq2z",
        "outputId": "ca828f08-4b5a-4901-bd7d-8a91d78a3135"
      },
      "execution_count": null,
      "outputs": [
        {
          "output_type": "stream",
          "name": "stdout",
          "text": [
            "横向合并后数组：\n",
            " [[ 0  1  0  2]\n",
            " [ 2  3  4  6]\n",
            " [ 4  5  8 10]]\n",
            "\n",
            "\n",
            "纵向合并后数组：\n",
            " [[ 0  1]\n",
            " [ 2  3]\n",
            " [ 4  5]\n",
            " [ 0  2]\n",
            " [ 4  6]\n",
            " [ 8 10]]\n"
          ]
        }
      ]
    },
    {
      "cell_type": "markdown",
      "source": [
        "concatenate方法"
      ],
      "metadata": {
        "id": "-0H-sdk5KkPt"
      }
    },
    {
      "cell_type": "code",
      "source": [
        "arr5 = np.concatenate((arr1,arr2),axis=1)\n",
        "print(\"横向合并后数组：\\n\",arr5)\n",
        "print(\"\\n\")\n",
        "arr5 = np.concatenate((arr1,arr2),axis=0)\n",
        "print(\"纵向合并后数组：\\n\",arr5)"
      ],
      "metadata": {
        "colab": {
          "base_uri": "https://localhost:8080/"
        },
        "id": "Xpy71yNWKJQf",
        "outputId": "78b275e9-065e-4556-b05b-56d71dc0f5a9"
      },
      "execution_count": null,
      "outputs": [
        {
          "output_type": "stream",
          "name": "stdout",
          "text": [
            "横向合并后数组：\n",
            " [[ 0  1  0  2]\n",
            " [ 2  3  4  6]\n",
            " [ 4  5  8 10]]\n",
            "\n",
            "\n",
            "纵向合并后数组：\n",
            " [[ 0  1]\n",
            " [ 2  3]\n",
            " [ 4  5]\n",
            " [ 0  2]\n",
            " [ 4  6]\n",
            " [ 8 10]]\n"
          ]
        }
      ]
    },
    {
      "cell_type": "markdown",
      "source": [
        "### 数组分割"
      ],
      "metadata": {
        "id": "n91c1N_tHvZW"
      }
    },
    {
      "cell_type": "code",
      "execution_count": null,
      "metadata": {
        "colab": {
          "base_uri": "https://localhost:8080/"
        },
        "id": "uQFApgqVHrdy",
        "outputId": "34d9c75f-c92c-4e4a-c4bc-0931b41a5b45"
      },
      "outputs": [
        {
          "output_type": "stream",
          "name": "stdout",
          "text": [
            "数组arr:\n",
            " [[ 0  1  2  3]\n",
            " [ 4  5  6  7]\n",
            " [ 8  9 10 11]\n",
            " [12 13 14 15]]\n"
          ]
        }
      ],
      "source": [
        "arr = np.arange(16).reshape(4,4)\n",
        "print(\"数组arr:\\n\",arr)"
      ]
    },
    {
      "cell_type": "code",
      "source": [
        "print(\"数组横向分割：\\n\",np.hsplit(arr,2))#或者split（axis=1）方法"
      ],
      "metadata": {
        "colab": {
          "base_uri": "https://localhost:8080/"
        },
        "id": "XJ498zvOINKR",
        "outputId": "cdfdcf56-1328-4db9-9f5e-2a03761db774"
      },
      "execution_count": null,
      "outputs": [
        {
          "output_type": "stream",
          "name": "stdout",
          "text": [
            "数组横向分割：\n",
            " [array([[ 0,  1],\n",
            "       [ 4,  5],\n",
            "       [ 8,  9],\n",
            "       [12, 13]]), array([[ 2,  3],\n",
            "       [ 6,  7],\n",
            "       [10, 11],\n",
            "       [14, 15]])]\n"
          ]
        }
      ]
    },
    {
      "cell_type": "code",
      "source": [
        "print(\"数组纵向分割：\\n\",np.vsplit(arr,2))#或者split（axis=0）方法"
      ],
      "metadata": {
        "colab": {
          "base_uri": "https://localhost:8080/"
        },
        "id": "01XNhcBrIc4h",
        "outputId": "aa2e5311-a629-4616-f8df-30f0edc91f4b"
      },
      "execution_count": null,
      "outputs": [
        {
          "output_type": "stream",
          "name": "stdout",
          "text": [
            "数组纵向分割：\n",
            " [array([[0, 1, 2, 3],\n",
            "       [4, 5, 6, 7]]), array([[ 8,  9, 10, 11],\n",
            "       [12, 13, 14, 15]])]\n"
          ]
        }
      ]
    },
    {
      "cell_type": "markdown",
      "source": [
        "### 矩阵转置和轴对换"
      ],
      "metadata": {
        "id": "I3W4KaY0Ixe6"
      }
    },
    {
      "cell_type": "code",
      "source": [
        "arr = np.arange(6).reshape(3,2)\n",
        "print(\"矩阵：\\n\",arr)\n",
        "arr = np.arange(6).reshape(3,2)\n",
        "print(\"转置矩阵：\\n\",arr.transpose((1,0)))"
      ],
      "metadata": {
        "colab": {
          "base_uri": "https://localhost:8080/"
        },
        "id": "FHfkzYhTK1Sc",
        "outputId": "9ad955d5-5a89-4fa7-a786-e737f8ab242e"
      },
      "execution_count": null,
      "outputs": [
        {
          "output_type": "stream",
          "name": "stdout",
          "text": [
            "矩阵：\n",
            " [[0 1]\n",
            " [2 3]\n",
            " [4 5]]\n",
            "转置矩阵：\n",
            " [[0 2 4]\n",
            " [1 3 5]]\n"
          ]
        }
      ]
    },
    {
      "cell_type": "markdown",
      "source": [
        "## 数组索引和切片"
      ],
      "metadata": {
        "id": "Y-FwK07-LT7-"
      }
    },
    {
      "cell_type": "code",
      "source": [
        "arr = np.arange(16)\n",
        "print(arr)\n",
        "print(arr[0])\n",
        "print(arr[-1])#最后一个元素\n",
        "print(arr[1:4])"
      ],
      "metadata": {
        "colab": {
          "base_uri": "https://localhost:8080/"
        },
        "id": "TR40nVwdLbJG",
        "outputId": "4c53c1d5-e2d0-4075-e8e4-7040e12fa997"
      },
      "execution_count": null,
      "outputs": [
        {
          "output_type": "stream",
          "name": "stdout",
          "text": [
            "[ 0  1  2  3  4  5  6  7  8  9 10 11 12 13 14 15]\n",
            "0\n",
            "15\n",
            "[1 2 3]\n"
          ]
        }
      ]
    },
    {
      "cell_type": "markdown",
      "source": [
        "数组元素复制"
      ],
      "metadata": {
        "id": "wBC95qkBiqGj"
      }
    },
    {
      "cell_type": "code",
      "source": [
        "arr = np.arange(8)\n",
        "arr1 = arr[-4:-1].copy()\n",
        "arr2 = arr[-1:-4].copy()\n",
        "print(arr)\n",
        "print(arr1)\n",
        "print(arr2)"
      ],
      "metadata": {
        "colab": {
          "base_uri": "https://localhost:8080/"
        },
        "id": "D_hr2imDivac",
        "outputId": "8ea3e55f-bb8f-4aba-dccf-8a78d8d8eab5"
      },
      "execution_count": null,
      "outputs": [
        {
          "output_type": "stream",
          "name": "stdout",
          "text": [
            "[0 1 2 3 4 5 6 7]\n",
            "[4 5 6]\n",
            "[]\n"
          ]
        }
      ]
    },
    {
      "cell_type": "markdown",
      "source": [
        "多维数组索引"
      ],
      "metadata": {
        "id": "m0m6-Ga4kIv2"
      }
    },
    {
      "cell_type": "code",
      "source": [
        "import numpy as np\n",
        "arr = np.arange(12).reshape(3,4)\n",
        "print(arr)\n",
        "\n",
        "print(arr[0,1:3])\n",
        "print(arr[:,2])\n",
        "\n",
        "print(\"索引结果1：\",arr[(0,1),(1,3)])#第0行的1列、第1行的3列\n",
        "\n",
        "print(\"索引结果2：\",arr[1:2,(0,2,3)])#1行的0、2、3列数\n",
        "\n",
        "mask = np.array([1,0,1],dtype=np.bool)#第0行第1行的1列元素,[ True False  True]\n",
        "print(\"索引结果3：\",arr[mask,1])#第1列\n",
        "\n",
        "\n",
        "print(mask)"
      ],
      "metadata": {
        "colab": {
          "base_uri": "https://localhost:8080/"
        },
        "id": "zpavjXVNkQjz",
        "outputId": "e1db1022-cfa0-49cd-9c7e-4b4dfe103f8c"
      },
      "execution_count": null,
      "outputs": [
        {
          "output_type": "stream",
          "name": "stdout",
          "text": [
            "[[ 0  1  2  3]\n",
            " [ 4  5  6  7]\n",
            " [ 8  9 10 11]]\n",
            "[1 2]\n",
            "[ 2  6 10]\n",
            "索引结果1： [1 7]\n",
            "索引结果2： [[4 6 7]]\n",
            "索引结果3： [1 9]\n",
            "[ True False  True]\n"
          ]
        },
        {
          "output_type": "stream",
          "name": "stderr",
          "text": [
            "/usr/local/lib/python3.7/dist-packages/ipykernel_launcher.py:12: DeprecationWarning: `np.bool` is a deprecated alias for the builtin `bool`. To silence this warning, use `bool` by itself. Doing this will not modify any behavior and is safe. If you specifically wanted the numpy scalar type, use `np.bool_` here.\n",
            "Deprecated in NumPy 1.20; for more details and guidance: https://numpy.org/devdocs/release/1.20.0-notes.html#deprecations\n",
            "  if sys.path[0] == '':\n"
          ]
        }
      ]
    },
    {
      "cell_type": "markdown",
      "source": [
        "#数组运算"
      ],
      "metadata": {
        "id": "_ZeAu81Fx8pC"
      }
    },
    {
      "cell_type": "markdown",
      "source": [
        "## 数组与标量间的运算"
      ],
      "metadata": {
        "id": "NKTqIMYbyToZ"
      }
    },
    {
      "cell_type": "code",
      "source": [
        "a = [1,2,3]\n",
        "b = []\n",
        "for i in a:\n",
        "  b.append(i*i)\n",
        "\n",
        "print(\"b数组：\",b)#平方运算\n",
        "wy = np.array([1,2,3])\n",
        "c = wy*2\n",
        "d = wy**2\n",
        "print('c数组：',c)\n",
        "print('d数组：',d)"
      ],
      "metadata": {
        "colab": {
          "base_uri": "https://localhost:8080/"
        },
        "id": "_5pdQSphycbF",
        "outputId": "75a920a0-c480-4b6b-d2f3-93dad20e74dd"
      },
      "execution_count": null,
      "outputs": [
        {
          "output_type": "stream",
          "name": "stdout",
          "text": [
            "b数组： [1, 4, 9]\n",
            "c数组： [2 4 6]\n",
            "d数组： [1 4 9]\n"
          ]
        }
      ]
    },
    {
      "cell_type": "markdown",
      "source": [
        "## ufunc()函数\n",
        "\n",
        "四则运算、比较运算、逻辑运算"
      ],
      "metadata": {
        "id": "9y7gNLu_zYli"
      }
    },
    {
      "cell_type": "markdown",
      "source": [
        "四则运算"
      ],
      "metadata": {
        "id": "qJtbEsz00j0m"
      }
    },
    {
      "cell_type": "code",
      "source": [
        "x = np.array([1,2,3])\n",
        "y = np.array([4,5,6])\n",
        "print(\"数组相加结果：\",x+y)\n",
        "print(\"数组相减结果：\",x-y)\n",
        "print(\"数组相乘结果：\",x*y)\n",
        "print(\"数组幂运算结果：\",x**y)#1的4次方、2的5次方、3的6次方"
      ],
      "metadata": {
        "colab": {
          "base_uri": "https://localhost:8080/"
        },
        "id": "L3Dzm16szlns",
        "outputId": "16ce1eaf-1dbd-46a9-f423-b20226f835a9"
      },
      "execution_count": null,
      "outputs": [
        {
          "output_type": "stream",
          "name": "stdout",
          "text": [
            "数组相加结果： [5 7 9]\n",
            "数组相减结果： [-3 -3 -3]\n",
            "数组相乘结果： [ 4 10 18]\n",
            "数组幂运算结果： [  1  32 729]\n"
          ]
        }
      ]
    },
    {
      "cell_type": "markdown",
      "source": [
        "数组比较运算"
      ],
      "metadata": {
        "id": "W84IxhqD0sZU"
      }
    },
    {
      "cell_type": "code",
      "source": [
        "x = np.array([1,3,6])\n",
        "y = np.array([2,3,4])\n",
        "print(\"比较结果（<）\", x < y)\n",
        "print(\"比较结果（>）\", x > y)\n",
        "print(\"比较结果（==）\", x == y)\n",
        "print(\"比较结果（>=）\", x >= y)\n",
        "print(\"比较结果（!=）\", x != y)"
      ],
      "metadata": {
        "colab": {
          "base_uri": "https://localhost:8080/"
        },
        "id": "IymUlBuf0vo0",
        "outputId": "8841c286-ec36-4c25-e3c1-c83ebc0e7c26"
      },
      "execution_count": null,
      "outputs": [
        {
          "output_type": "stream",
          "name": "stdout",
          "text": [
            "比较结果（<） [ True False False]\n",
            "比较结果（>） [False False  True]\n",
            "比较结果（==） [False  True False]\n",
            "比较结果（>=） [False  True  True]\n",
            "比较结果（!=） [ True False  True]\n"
          ]
        }
      ]
    },
    {
      "cell_type": "markdown",
      "source": [
        "ufunc()函数的广播机制"
      ],
      "metadata": {
        "id": "0a-7qBjL2CAO"
      }
    },
    {
      "cell_type": "code",
      "source": [
        "arr1 = np.array([[0,0,0],[1,1,1],[2,2,2]])\n",
        "arr2 = np.array([1,2,3])\n",
        "\n",
        "print(\"arr1:\\n\",arr1)\n",
        "print(\"arr2:\\n\",arr2)\n",
        "print(\"arr1+arr2:\\n\",arr1+arr2)#arr1的每一行都加上了arr2\n"
      ],
      "metadata": {
        "colab": {
          "base_uri": "https://localhost:8080/"
        },
        "id": "rFIJuhxt2IRd",
        "outputId": "471a7dfa-7a4c-4805-f066-398d9516f2d7"
      },
      "execution_count": null,
      "outputs": [
        {
          "output_type": "stream",
          "name": "stdout",
          "text": [
            "arr1:\n",
            " [[0 0 0]\n",
            " [1 1 1]\n",
            " [2 2 2]]\n",
            "arr2:\n",
            " [1 2 3]\n",
            "arr1+arr2:\n",
            " [[1 2 3]\n",
            " [2 3 4]\n",
            " [3 4 5]]\n"
          ]
        }
      ]
    },
    {
      "cell_type": "markdown",
      "source": [
        "## 条件逻辑运算"
      ],
      "metadata": {
        "id": "wgG7JoA72zKW"
      }
    },
    {
      "cell_type": "markdown",
      "source": [
        "数组的条件逻辑运算"
      ],
      "metadata": {
        "id": "vsLb36Ck27sV"
      }
    },
    {
      "cell_type": "code",
      "source": [
        "arr1 = np.array([1,3,5,7])\n",
        "arr2 = np.array([2,4,6,8])\n",
        "cond = np.array([1,0,1,0],dtype=np.bool_)\n",
        "\n",
        "print(cond)\n",
        "result = [(x if c else y)for x,y,c in zip(arr1,arr2,cond)]\n",
        "#遍历arr1,arr2,cond,如果c是true就是arr1里的数组，否则就是arr2里的数组\n",
        "print(result)"
      ],
      "metadata": {
        "colab": {
          "base_uri": "https://localhost:8080/"
        },
        "id": "XiTDbI0L24rA",
        "outputId": "b52d1119-8f0b-4156-bcf8-43af61a124bd"
      },
      "execution_count": null,
      "outputs": [
        {
          "output_type": "stream",
          "name": "stdout",
          "text": [
            "[ True False  True False]\n",
            "[1, 4, 5, 8]\n"
          ]
        }
      ]
    },
    {
      "cell_type": "markdown",
      "source": [
        "where（）方法的基本方法"
      ],
      "metadata": {
        "id": "ZLv4mywQ6X49"
      }
    },
    {
      "cell_type": "code",
      "source": [
        "#where(condition,x,y),满足条件condition则输出x,否则输出y\n",
        "print(np.where([[True,False],[False,True]],[[1,2],[3,4]],[[9,8],[7,6]]))\n",
        "w = np.array([2,5,6,3,10])\n",
        "print(np.where(w>4))#w中满足大于4的下标"
      ],
      "metadata": {
        "colab": {
          "base_uri": "https://localhost:8080/"
        },
        "id": "izAwIuK16cSz",
        "outputId": "cf229e5e-a22e-45fd-edcd-e69c2b97248d"
      },
      "execution_count": null,
      "outputs": [
        {
          "output_type": "stream",
          "name": "stdout",
          "text": [
            "[[1 8]\n",
            " [7 4]]\n",
            "(array([1, 2, 4]),)\n"
          ]
        }
      ]
    },
    {
      "cell_type": "markdown",
      "source": [
        "# numpy中数据统计与分析"
      ],
      "metadata": {
        "id": "IakP3eqhFJMf"
      }
    },
    {
      "cell_type": "markdown",
      "source": [
        "## 1.排序"
      ],
      "metadata": {
        "id": "IOg-j8GaFO54"
      }
    },
    {
      "cell_type": "code",
      "source": [
        "import numpy as np\n",
        "arr = np.array([7,2,4,1,6,8,2,0,11,9])\n",
        "print(\"原数组：\",arr)\n",
        "arr.sort()\n",
        "print(\"排序后：\",arr)"
      ],
      "metadata": {
        "colab": {
          "base_uri": "https://localhost:8080/"
        },
        "id": "EndJdf4pFRrw",
        "outputId": "69b2e1d3-e2eb-499a-c6c9-7c3bb33ab767"
      },
      "execution_count": 1,
      "outputs": [
        {
          "output_type": "stream",
          "name": "stdout",
          "text": [
            "原数组： [ 7  2  4  1  6  8  2  0 11  9]\n",
            "排序后： [ 0  1  2  2  4  6  7  8  9 11]\n"
          ]
        }
      ]
    },
    {
      "cell_type": "markdown",
      "source": [
        "带轴向参数的sort（）函数排序\n",
        "\n",
        "axis=-1（1为沿着横轴排序，0为沿着纵轴排序，none为数组扁平化后排序）\n",
        "\n",
        "kind=None（排序算法，默认为快排）\n",
        "\n",
        "order=None（如果数组包含字段，就是要排序的字段）"
      ],
      "metadata": {
        "id": "VZZ4iNNKF8mA"
      }
    },
    {
      "cell_type": "code",
      "source": [
        "arr = np.array([[4,3,5,2],[0,7,4,3],[1,3,9,7]])\n",
        "print(\"原数组：\\n\", arr)\n",
        "arr.sort(axis=1)\n",
        "print(\"沿着横轴排序数组：\\n\", arr)\n",
        "arr = np.array([[4,3,5,2],[0,7,4,3],[1,3,9,7]])\n",
        "arr.sort(axis=0)\n",
        "print(\"沿着纵轴排序数组：\\n\", arr)\n",
        "arr = np.array([[4,3,5,2],[0,7,4,3],[1,3,9,7]])\n",
        "arr.sort()\n",
        "print(\"默认排序数组为按横轴排序：\\n\", arr)"
      ],
      "metadata": {
        "colab": {
          "base_uri": "https://localhost:8080/"
        },
        "id": "JiP1MmB0GDLG",
        "outputId": "541601fb-f526-4a41-9e39-8da86310b70c"
      },
      "execution_count": 12,
      "outputs": [
        {
          "output_type": "stream",
          "name": "stdout",
          "text": [
            "原数组：\n",
            " [[4 3 5 2]\n",
            " [0 7 4 3]\n",
            " [1 3 9 7]]\n",
            "沿着横轴排序数组：\n",
            " [[2 3 4 5]\n",
            " [0 3 4 7]\n",
            " [1 3 7 9]]\n",
            "沿着纵轴排序数组：\n",
            " [[0 3 4 2]\n",
            " [1 3 5 3]\n",
            " [4 7 9 7]]\n",
            "默认排序数组为按横轴排序：\n",
            " [[2 3 4 5]\n",
            " [0 3 4 7]\n",
            " [1 3 7 9]]\n"
          ]
        }
      ]
    },
    {
      "cell_type": "markdown",
      "source": [
        "使用argsort()方法与lexsort（）函数排序"
      ],
      "metadata": {
        "id": "x6k1Vj2Cfy61"
      }
    },
    {
      "cell_type": "markdown",
      "source": [
        "![image.png](data:image/png;base64,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)"
      ],
      "metadata": {
        "id": "8U_UdVtSgAE_"
      }
    },
    {
      "cell_type": "markdown",
      "source": [
        " 将原本数组中的元素用索引依次标注：\n",
        "\n",
        "​ 如：7→0，9→1，5→2，… ；以此类推，得到索引：0，1，2，3，4，5，6，7，8，9"
      ],
      "metadata": {
        "id": "I4VePlGRf1t3"
      }
    },
    {
      "cell_type": "markdown",
      "source": [
        "![image.png](data:image/png;base64,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)"
      ],
      "metadata": {
        "id": "uB5OPjgZaukw"
      }
    },
    {
      "cell_type": "markdown",
      "source": [
        "lexsort()同样分为三个步骤"
      ],
      "metadata": {
        "id": "32eccYRqgo0j"
      }
    },
    {
      "cell_type": "markdown",
      "source": [
        "![image.png](data:image/png;base64,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)"
      ],
      "metadata": {
        "id": "0W4c_0heglFn"
      }
    },
    {
      "cell_type": "markdown",
      "source": [
        "Step2:\n",
        "​ 因为lexsort((a,b))中，以b为基准，所以将b排序，再用索引与之对应。\n",
        "\n",
        "Step3:\n",
        "​ 当索引遇见相同元素时，以a中元素的大小顺序排序。"
      ],
      "metadata": {
        "id": "pa3gDm62gzr7"
      }
    },
    {
      "cell_type": "markdown",
      "source": [
        "![image.png](data:image/png;base64,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)"
      ],
      "metadata": {
        "id": "75iBDXyrg4fL"
      }
    },
    {
      "cell_type": "code",
      "source": [
        "arr = np.array([7,2,4,1,6,8,2,0,11,9])\n",
        "print(\"原数组：\\n\", arr)\n",
        "print(\"排序后：\\n\",arr.argsort())\n",
        "\n",
        "a = [2,5,8,4,3,7,6]\n",
        "b = [9,4,0,4,0,2,1]\n",
        "c = np.lexsort((a,b))\n",
        "print(\"c:\\n\",c)"
      ],
      "metadata": {
        "colab": {
          "base_uri": "https://localhost:8080/"
        },
        "id": "KFiBiZIRa9Uf",
        "outputId": "8bfd76d2-885e-4eb1-be36-e94eba548354"
      },
      "execution_count": 14,
      "outputs": [
        {
          "output_type": "stream",
          "name": "stdout",
          "text": [
            "原数组：\n",
            " [ 7  2  4  1  6  8  2  0 11  9]\n",
            "排序后：\n",
            " [7 3 1 6 2 4 0 5 9 8]\n",
            "c:\n",
            " [4 2 6 5 3 1 0]\n"
          ]
        }
      ]
    },
    {
      "cell_type": "markdown",
      "source": [
        "## 2.重复数据与去重"
      ],
      "metadata": {
        "id": "h4WvDxM0hFhn"
      }
    },
    {
      "cell_type": "markdown",
      "source": [
        "数组内数据去重"
      ],
      "metadata": {
        "id": "KK-JZRD9haXe"
      }
    },
    {
      "cell_type": "code",
      "source": [
        "names = np.array(['红色','蓝色','绿色','红色','紫色','黄色','蓝色'])\n",
        "print(\"原数组：\\n\",names)\n",
        "print('去重后的数组：\\n',np.unique(names))"
      ],
      "metadata": {
        "colab": {
          "base_uri": "https://localhost:8080/"
        },
        "id": "IgJda6lDhdaz",
        "outputId": "d4197426-a291-4506-8e41-77f50e0e135a"
      },
      "execution_count": 23,
      "outputs": [
        {
          "output_type": "stream",
          "name": "stdout",
          "text": [
            "原数组：\n",
            " ['红色' '蓝色' '绿色' '红色' '紫色' '黄色' '蓝色']\n",
            "去重后的数组：\n",
            " ['紫色' '红色' '绿色' '蓝色' '黄色']\n"
          ]
        }
      ]
    },
    {
      "cell_type": "markdown",
      "source": [
        "将数据重复"
      ],
      "metadata": {
        "id": "O229nYQhi7At"
      }
    },
    {
      "cell_type": "code",
      "source": [
        "arr = np.arange(5)\n",
        "print(\"原数组：\\n\",arr)\n",
        "wy = np.tile(arr,3)\n",
        "print(\"重复数据处理：\\n\",wy)"
      ],
      "metadata": {
        "colab": {
          "base_uri": "https://localhost:8080/"
        },
        "id": "tySyk43noheF",
        "outputId": "4ce33fcb-9da3-408c-8392-311372d97370"
      },
      "execution_count": 27,
      "outputs": [
        {
          "output_type": "stream",
          "name": "stdout",
          "text": [
            "原数组：\n",
            " [0 1 2 3 4]\n",
            "重复数据处理：\n",
            " [0 1 2 3 4 0 1 2 3 4 0 1 2 3 4]\n"
          ]
        }
      ]
    },
    {
      "cell_type": "code",
      "source": [
        "arr = np.array([[4,3,5,2],[0,7,4,3],[1,3,9,7]])\n",
        "print(\"原数组：\\n\",arr)\n",
        "wy = arr.repeat(2,axis=0)\n",
        "print(\"重复数据处理沿着纵轴按行：\\n\",wy)\n",
        "wy = arr.repeat(2,axis=1)\n",
        "print(\"重复数据处理沿着横轴按列：\\n\",wy)"
      ],
      "metadata": {
        "colab": {
          "base_uri": "https://localhost:8080/"
        },
        "id": "83ZdNm8WpH60",
        "outputId": "7bbfd88f-e255-4bb8-8716-539b0aac8795"
      },
      "execution_count": 31,
      "outputs": [
        {
          "output_type": "stream",
          "name": "stdout",
          "text": [
            "原数组：\n",
            " [[4 3 5 2]\n",
            " [0 7 4 3]\n",
            " [1 3 9 7]]\n",
            "重复数据处理沿着纵轴按行：\n",
            " [[4 3 5 2]\n",
            " [4 3 5 2]\n",
            " [0 7 4 3]\n",
            " [0 7 4 3]\n",
            " [1 3 9 7]\n",
            " [1 3 9 7]]\n",
            "重复数据处理沿着横轴按列：\n",
            " [[4 4 3 3 5 5 2 2]\n",
            " [0 0 7 7 4 4 3 3]\n",
            " [1 1 3 3 9 9 7 7]]\n"
          ]
        }
      ]
    },
    {
      "cell_type": "markdown",
      "source": [
        "3.常用统计函数"
      ],
      "metadata": {
        "id": "lTxncNhBpAO6"
      }
    },
    {
      "cell_type": "code",
      "source": [
        "arr = np.arange(20).reshape(4,5)\n",
        "print(\"创建的数组：\\n\",arr)\n",
        "print(\"数组的和：\",np.sum(arr))\n",
        "print(\"数组纵轴的和：\",np.sum(arr,axis=0))\n",
        "print(\"数组横轴的和：\",np.sum(arr,axis=1))\n",
        "print(\"数组的均值：\",np.mean(arr))\n",
        "print(\"数组横轴的均值：\",np.mean(arr,axis=1))\n",
        "print(\"数组的标准差：\",np.std(arr))\n",
        "print(\"数组横轴的标准差：\",np.std(arr,axis=1))"
      ],
      "metadata": {
        "colab": {
          "base_uri": "https://localhost:8080/"
        },
        "id": "OTs65ayrq6M4",
        "outputId": "54d7f95c-5dd0-424a-d5d5-5eb01b1ddc44"
      },
      "execution_count": 34,
      "outputs": [
        {
          "output_type": "stream",
          "name": "stdout",
          "text": [
            "创建的数组：\n",
            " [[ 0  1  2  3  4]\n",
            " [ 5  6  7  8  9]\n",
            " [10 11 12 13 14]\n",
            " [15 16 17 18 19]]\n",
            "数组的和： 190\n",
            "数组纵轴的和： [30 34 38 42 46]\n",
            "数组横轴的和： [10 35 60 85]\n",
            "数组的均值： 9.5\n",
            "数组横轴的均值： [ 2.  7. 12. 17.]\n",
            "数组的标准差： 5.766281297335398\n",
            "数组横轴的标准差： [1.41421356 1.41421356 1.41421356 1.41421356]\n"
          ]
        }
      ]
    }
  ]
}